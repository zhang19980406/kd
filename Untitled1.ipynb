{
 "cells": [
  {
   "cell_type": "code",
   "execution_count": 30,
   "metadata": {},
   "outputs": [],
   "source": [
    "import openpyxl\n",
    "import pandas as pd\n",
    "import os\n",
    "import datetime\n",
    "from IPython.display import display"
   ]
  },
  {
   "cell_type": "code",
   "execution_count": 31,
   "metadata": {},
   "outputs": [],
   "source": [
    "def print_full(x):\n",
    "    df = pd.DataFrame(x)\n",
    "    pd.set_option('display.max_rows', 2000)\n",
    "    pd.set_option('display.max_columns', 20)\n",
    "    display(df)"
   ]
  },
  {
   "cell_type": "code",
   "execution_count": 32,
   "metadata": {},
   "outputs": [],
   "source": [
    "excelname= \"kd\"\n",
    "sheetname = \"kd\"\n",
    "\n",
    "wb = openpyxl.load_workbook(str(excelname)+\".xlsx\")\n",
    "ws = wb[str(sheetname)]\n"
   ]
  },
  {
   "cell_type": "code",
   "execution_count": 33,
   "metadata": {},
   "outputs": [],
   "source": [
    "dataset = []\n",
    "\n",
    "i = 1\n",
    "while(ws.cell(row=i, column=1).value!=None):\n",
    "    row = []\n",
    "    j = 1\n",
    "    while(ws.cell(row=i, column=j).value!=None):\n",
    "        row.append(ws.cell(row=i, column=j).value)\n",
    "        j = j +1\n",
    "    dataset.append(row)\n",
    "    i = i + 1"
   ]
  },
  {
   "cell_type": "code",
   "execution_count": 34,
   "metadata": {},
   "outputs": [],
   "source": [
    "\n",
    "trade =[[0 for x in range(11)] for y in range(len(dataset))]\n",
    "trade[0][0] = \"date\"\n",
    "trade[0][1] = \"open\"\n",
    "trade[0][2] = \"high\"\n",
    "trade[0][3] = \"low\"\n",
    "trade[0][4] = \"close\"\n",
    "trade[0][5] = \"rsv\"\n",
    "trade[0][6] = \"k\"\n",
    "trade[0][7] = \"d\"\n",
    "trade[0][8] = \"buy_day\"\n",
    "trade[0][9] = \"cum_buy\"\n",
    "trade[0][10]= \"sell_day\""
   ]
  },
  {
   "cell_type": "code",
   "execution_count": 35,
   "metadata": {},
   "outputs": [],
   "source": [
    "for i in range(1, len(trade)):\n",
    "    trade[i][0] = dataset[i][0]\n",
    "    trade[i][1] = float(dataset[i][1])\n",
    "    trade[i][2] = float(dataset[i][2])\n",
    "    trade[i][3] = float(dataset[i][3])\n",
    "    trade[i][4] = float(dataset[i][4])\n",
    "\n",
    "for i in range(9,len(trade)):\n",
    "    temp=[]\n",
    "    for j in range(0,9):\n",
    "        temp.append(trade[i-j][3])\n",
    "    A=min(temp)\n",
    "\n",
    "for i in range(9,len(trade)):\n",
    "    timp=[]\n",
    "    for j in range(0,9):\n",
    "        timp.append(trade[i-j][2])\n",
    "    B=max(timp)"
   ]
  },
  {
   "cell_type": "code",
   "execution_count": 36,
   "metadata": {},
   "outputs": [],
   "source": [
    "rsv=(trade[i][4]-A)/(B-A)*100\n",
    "k=trade[9][6]=50"
   ]
  },
  {
   "cell_type": "code",
   "execution_count": 37,
   "metadata": {},
   "outputs": [],
   "source": [
    "for i in range (10,len(trade)):\n",
    "    k=0\n",
    "    for m in range(0,10):\n",
    "        k=(k-1)*2/3+rsv/3\n",
    "    trade[i][6]=k"
   ]
  },
  {
   "cell_type": "code",
   "execution_count": 38,
   "metadata": {},
   "outputs": [],
   "source": [
    "for i in range (10,len(trade)):\n",
    "    d=0\n",
    "    for n in range(0,10):\n",
    "        d=(d-1)*2/3+k/3\n",
    "    trade[i][7]=d"
   ]
  },
  {
   "cell_type": "code",
   "execution_count": 39,
   "metadata": {},
   "outputs": [],
   "source": [
    "for i in range(10, len(trade)):\n",
    "    if(trade[i][6] > trade[i][7])and(trade[i-1][8]==0):\n",
    "        trade[i][8]=1\n",
    "        trade[i][9]=1\n",
    "        trade[i][10]=0\n",
    "    elif(trade[i][6] < trade[i][7])and(trade[i-1][8]==1):\n",
    "        trade[i][8]=0\n",
    "        trade[i][9]=0\n",
    "        trade[i][10]=1\n",
    "    elif(trade[i-1][9]==1):\n",
    "        trade[i][8]=0\n",
    "        trade[i][9]=1\n",
    "        trade[i][10]=0"
   ]
  },
  {
   "cell_type": "code",
   "execution_count": null,
   "metadata": {},
   "outputs": [],
   "source": []
  },
  {
   "cell_type": "code",
   "execution_count": null,
   "metadata": {},
   "outputs": [],
   "source": []
  },
  {
   "cell_type": "code",
   "execution_count": null,
   "metadata": {},
   "outputs": [],
   "source": []
  }
 ],
 "metadata": {
  "kernelspec": {
   "display_name": "Python 3",
   "language": "python",
   "name": "python3"
  },
  "language_info": {
   "codemirror_mode": {
    "name": "ipython",
    "version": 3
   },
   "file_extension": ".py",
   "mimetype": "text/x-python",
   "name": "python",
   "nbconvert_exporter": "python",
   "pygments_lexer": "ipython3",
   "version": "3.7.1"
  }
 },
 "nbformat": 4,
 "nbformat_minor": 2
}
